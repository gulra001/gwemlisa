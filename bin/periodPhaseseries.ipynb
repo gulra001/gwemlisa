{
 "cells": [
  {
   "cell_type": "code",
   "execution_count": 31,
   "metadata": {},
   "outputs": [
    {
     "data": {
      "text/plain": [
       "7.199999999999999"
      ]
     },
     "execution_count": 31,
     "metadata": {},
     "output_type": "execute_result"
    }
   ],
   "source": [
    "import numpy as np\n",
    "import matplotlib.pyplot as plt\n",
    "import pdb\n",
    "\n",
    "# default params\n",
    "m1 = 0.5 # mass 1 (msun)\n",
    "m2 = 0.25 # mass 2 (msun)\n",
    "P0 = 0.005 # period (days)\n",
    "Pdot = 1e-11 # abs rate of change of period (days/days)\n",
    "freq_0 = 2/P0/(60*60*24) # quadrupole radiation in hertz (twice the freq of the source)\n"
   ]
  },
  {
   "cell_type": "code",
   "execution_count": 11,
   "metadata": {},
   "outputs": [],
   "source": [
    "# constants\n",
    "G = 6.67e-11 # grav constant (m^3/kg/s^2)\n",
    "msun = 1.989e30 # solar mass (kg)\n",
    "c = 299792458 # speed of light (m/s)\n",
    "\n",
    "def mchirp(m1,m2): \n",
    "    return (m1*m2)**(3/5.)/(m1+m2)**(1/5.)\n",
    "\n",
    "def time(n=100,mean_dt=3,sig_t=2):\n",
    "    \"\"\"\n",
    "    Returns time array of length n with dt given by Gaussian distribution\n",
    "    \n",
    "    INPUT:\n",
    "            n = length of time array\n",
    "                Default: 100\n",
    "                \n",
    "            mean_dt = average dt between each time value\n",
    "                Default: 3\n",
    "                \n",
    "            sig_t = standard deviation of the Gaussian\n",
    "                Default: 2\n",
    "            \n",
    "    OUTPUT:\n",
    "            t = time array\n",
    "        \n",
    "    \"\"\"\n",
    "    t = np.zeros(n)\n",
    "\n",
    "    for i in range(len(t)):\n",
    "        if i != 0:\n",
    "            t[i] += t[i-1] + np.abs(np.random.normal(mean_dt,sig_t,1)) \n",
    "            \n",
    "    return t\n",
    "\n",
    "def time_to_coalescence(f0, m1, m2=None):\n",
    "    \"\"\"\n",
    "    INPUTS:\n",
    "            f0 = starting frequency in hertz\n",
    "            \n",
    "            m1 = mass of star 1 in kg\n",
    "            \n",
    "            m2 = mass of star 2 in kg (If None, m1 assumed to be mchirp)\n",
    "            \n",
    "    OUTPUTS:\n",
    "            freqs = frequency array in hertz (nan after coalescence)\n",
    "            \n",
    "    \"\"\"\n",
    "    if m2 is None:\n",
    "        mc = m1\n",
    "    else:\n",
    "        mc = mchirp(m1,m2)\n",
    "    return 5./256. * (np.pi*f0)**(-8/3) * (G*mc/c**3)**(-5/3)\n",
    "\n",
    "\n",
    "def freqqs(times, m1,m2, f0):\n",
    "    \"\"\"\n",
    "    INPUTS:\n",
    "            times = time array in seconds\n",
    "            \n",
    "            m1 = mass of star 1 in kg\n",
    "            \n",
    "            m2 = mass of star 2 in kg\n",
    "            \n",
    "            f0 = starting frequency in hertz\n",
    "    OUTPUTS:\n",
    "            freqs = frequency array in hertz (nan after coalescence)\n",
    "            \n",
    "    \"\"\"\n",
    "    tcoal= time_to_coalescence(f0,m1,m2)\n",
    "\n",
    "    times= tcoal-times\n",
    "    \n",
    "    freqs=1/np.pi*(5/256./times)**(3/8.)*(G*mchirp(m1,m2)/c**3)**(-5/8.)\n",
    "    \n",
    "    return freqs\n",
    "\n",
    "\n",
    "def pdot_phasefold(times, P, Pdot, t0=0):\n",
    "    \"\"\"\n",
    "    @author: kburdge\n",
    "       \n",
    "    Function which returns phases corresponding to timestamps in a lightcurve \n",
    "    given a period P, period derivative Pdot, and reference epoch t0\n",
    "    \n",
    "    If no reference epoch is supplied, reference epoch is set to earliest time in lightcurve\n",
    "    \n",
    "    INPUTS:\n",
    "            times = time array (days)\n",
    "            \n",
    "            P = starting period\n",
    "            \n",
    "            Pdot = rate of change of period in units of time/time (days/day)\n",
    "            \n",
    "            t0 = start time\n",
    "            \n",
    "    OUTPUTS:\n",
    "            phases = phases for given time array, period, and Pdot\n",
    "    \n",
    "    \"\"\"\n",
    "    \n",
    "    if t0==0:\n",
    "            times=times-np.min(times)\n",
    "    else:\n",
    "            times=times-t0\n",
    "    \n",
    "    phases=times-1/2*Pdot/P*(times)**2\n",
    "    \n",
    "    return phases"
   ]
  },
  {
   "cell_type": "code",
   "execution_count": 12,
   "metadata": {},
   "outputs": [
    {
     "data": {
      "text/plain": [
       "[<matplotlib.lines.Line2D at 0x7f1628830490>]"
      ]
     },
     "execution_count": 12,
     "metadata": {},
     "output_type": "execute_result"
    },
    {
     "data": {
      "image/png": "[encoded data removed]",
      "text/plain": [
       "<Figure size 432x288 with 1 Axes>"
      ]
     },
     "metadata": {
      "needs_background": "light"
     },
     "output_type": "display_data"
    }
   ],
   "source": [
    "times = np.arange(30)\n",
    "#testing for ~GW170817 params\n",
    "plt.plot(times,freqqs(times, 1.36*msun, 1.17*msun,f0=40))"
   ]
  },
  {
   "cell_type": "code",
   "execution_count": 37,
   "metadata": {},
   "outputs": [],
   "source": [
    "times = time(n=100,mean_dt=10)\n",
    "pdot_f = pdot_phasefold(times, P0, Pdot)\n",
    "frequency_series = freqqs(times*60*60*24, 0.5*msun, 0.25*msun,f0=freq_0)"
   ]
  },
  {
   "cell_type": "code",
   "execution_count": 38,
   "metadata": {},
   "outputs": [
    {
     "data": {
      "text/plain": [
       "<matplotlib.legend.Legend at 0x7f16286824d0>"
      ]
     },
     "execution_count": 38,
     "metadata": {},
     "output_type": "execute_result"
    },
    {
     "data": {
      "image/png": "[encoded data removed]",
      "text/plain": [
       "<Figure size 432x288 with 1 Axes>"
      ]
     },
     "metadata": {
      "needs_background": "light"
     },
     "output_type": "display_data"
    }
   ],
   "source": [
    "plt.plot(times,(pdot_f-times)*86400,label=\"eclipse dt (seconds)\")\n",
    "plt.plot(times,frequency_series,label=\"gw freq (hertz)\")\n",
    "plt.xlabel(\"time (days)\")\n",
    "plt.legend()\n"
   ]
  },
  {
   "cell_type": "code",
   "execution_count": 39,
   "metadata": {},
   "outputs": [],
   "source": [
    "np.savetxt(\"phase_freq.dat\",np.array([times,(pdot_f-times)*86400,frequency_series]).T, header = 'time(days) eclipse_dt(seconds) gw_freq(hertz)')"
   ]
  },
  {
   "cell_type": "code",
   "execution_count": 40,
   "metadata": {},
   "outputs": [
    {
     "data": {
      "text/plain": [
       "array([[ 0.00000000e+00,  0.00000000e+00,  4.62962963e-03],\n",
       "       [ 1.09988710e+01, -1.04522540e-02,  4.62962984e-03],\n",
       "       [ 2.24359754e+01, -4.34914264e-02,  4.62963006e-03],\n",
       "       [ 3.37284478e+01, -9.82893474e-02,  4.62963027e-03],\n",
       "       [ 4.06167602e+01, -1.42535912e-01,  4.62963040e-03],\n",
       "       [ 4.89159336e+01, -2.06735204e-01,  4.62963056e-03],\n",
       "       [ 5.91498804e+01, -3.02288402e-01,  4.62963075e-03],\n",
       "       [ 6.87153179e+01, -4.07963080e-01,  4.62963093e-03],\n",
       "       [ 7.48689075e+01, -4.84302526e-01,  4.62963105e-03],\n",
       "       [ 8.36319383e+01, -6.04307615e-01,  4.62963122e-03],\n",
       "       [ 9.22357023e+01, -7.35041500e-01,  4.62963138e-03],\n",
       "       [ 1.05653007e+02, -9.64444997e-01,  4.62963163e-03],\n",
       "       [ 1.16869632e+02, -1.18009535e+00,  4.62963185e-03],\n",
       "       [ 1.31033826e+02, -1.48347622e+00,  4.62963212e-03],\n",
       "       [ 1.37815258e+02, -1.64099911e+00,  4.62963225e-03],\n",
       "       [ 1.45216589e+02, -1.82199091e+00,  4.62963239e-03],\n",
       "       [ 1.52045201e+02, -1.99737300e+00,  4.62963252e-03],\n",
       "       [ 1.60142958e+02, -2.21579428e+00,  4.62963267e-03],\n",
       "       [ 1.70427485e+02, -2.50953360e+00,  4.62963286e-03],\n",
       "       [ 1.79378795e+02, -2.78007138e+00,  4.62963303e-03],\n",
       "       [ 1.88148372e+02, -3.05854358e+00,  4.62963320e-03],\n",
       "       [ 1.99670753e+02, -3.44463059e+00,  4.62963342e-03],\n",
       "       [ 2.07027254e+02, -3.70312854e+00,  4.62963356e-03],\n",
       "       [ 2.16225198e+02, -4.03948825e+00,  4.62963373e-03],\n",
       "       [ 2.26278666e+02, -4.42385579e+00,  4.62963392e-03],\n",
       "       [ 2.33859575e+02, -4.72524197e+00,  4.62963407e-03],\n",
       "       [ 2.39754291e+02, -4.96645517e+00,  4.62963418e-03],\n",
       "       [ 2.47532241e+02, -5.29391895e+00,  4.62963433e-03],\n",
       "       [ 2.61471992e+02, -5.90696085e+00,  4.62963459e-03],\n",
       "       [ 2.71255361e+02, -6.35726630e+00,  4.62963478e-03],\n",
       "       [ 2.79484474e+02, -6.74883975e+00,  4.62963493e-03],\n",
       "       [ 2.89452974e+02, -7.23885329e+00,  4.62963512e-03],\n",
       "       [ 2.99742686e+02, -7.76266658e+00,  4.62963532e-03],\n",
       "       [ 3.10553266e+02, -8.33270379e+00,  4.62963552e-03],\n",
       "       [ 3.23925390e+02, -9.06574970e+00,  4.62963578e-03],\n",
       "       [ 3.31909233e+02, -9.51814707e+00,  4.62963593e-03],\n",
       "       [ 3.37561164e+02, -9.84506742e+00,  4.62963604e-03],\n",
       "       [ 3.47875870e+02, -1.04559225e+01,  4.62963623e-03],\n",
       "       [ 3.58267753e+02, -1.10899397e+01,  4.62963643e-03],\n",
       "       [ 3.66517206e+02, -1.16065321e+01,  4.62963659e-03],\n",
       "       [ 3.77513258e+02, -1.23134049e+01,  4.62963679e-03],\n",
       "       [ 3.87171214e+02, -1.29514939e+01,  4.62963698e-03],\n",
       "       [ 3.99582083e+02, -1.37951287e+01,  4.62963721e-03],\n",
       "       [ 4.09801868e+02, -1.45098061e+01,  4.62963741e-03],\n",
       "       [ 4.17065134e+02, -1.50287034e+01,  4.62963755e-03],\n",
       "       [ 4.30204531e+02, -1.59905611e+01,  4.62963779e-03],\n",
       "       [ 4.43874384e+02, -1.70229141e+01,  4.62963805e-03],\n",
       "       [ 4.52478779e+02, -1.76892807e+01,  4.62963822e-03],\n",
       "       [ 4.62682883e+02, -1.84961189e+01,  4.62963841e-03],\n",
       "       [ 4.73485485e+02, -1.93698868e+01,  4.62963862e-03],\n",
       "       [ 4.83001170e+02, -2.01562673e+01,  4.62963880e-03],\n",
       "       [ 4.92707155e+02, -2.09744935e+01,  4.62963898e-03],\n",
       "       [ 5.01238805e+02, -2.17071653e+01,  4.62963914e-03],\n",
       "       [ 5.09252983e+02, -2.24068551e+01,  4.62963929e-03],\n",
       "       [ 5.16476979e+02, -2.30470678e+01,  4.62963943e-03],\n",
       "       [ 5.28168205e+02, -2.41022868e+01,  4.62963965e-03],\n",
       "       [ 5.37558662e+02, -2.49669488e+01,  4.62963983e-03],\n",
       "       [ 5.46171369e+02, -2.57733934e+01,  4.62964000e-03],\n",
       "       [ 5.57422988e+02, -2.68462415e+01,  4.62964021e-03],\n",
       "       [ 5.64101448e+02, -2.74933823e+01,  4.62964034e-03],\n",
       "       [ 5.71606953e+02, -2.82298615e+01,  4.62964048e-03],\n",
       "       [ 5.80492783e+02, -2.91143696e+01,  4.62964065e-03],\n",
       "       [ 5.90871753e+02, -3.01647827e+01,  4.62964084e-03],\n",
       "       [ 6.00494015e+02, -3.11552406e+01,  4.62964103e-03],\n",
       "       [ 6.08552615e+02, -3.19970551e+01,  4.62964118e-03],\n",
       "       [ 6.18746889e+02, -3.30780423e+01,  4.62964137e-03],\n",
       "       [ 6.28995138e+02, -3.41828539e+01,  4.62964157e-03],\n",
       "       [ 6.37532496e+02, -3.51170799e+01,  4.62964173e-03],\n",
       "       [ 6.51487087e+02, -3.66712207e+01,  4.62964199e-03],\n",
       "       [ 6.61733529e+02, -3.78338052e+01,  4.62964219e-03],\n",
       "       [ 6.72247652e+02, -3.90456207e+01,  4.62964239e-03],\n",
       "       [ 6.79894765e+02, -3.99389954e+01,  4.62964253e-03],\n",
       "       [ 6.87363790e+02, -4.08213198e+01,  4.62964268e-03],\n",
       "       [ 6.94548143e+02, -4.16791114e+01,  4.62964281e-03],\n",
       "       [ 7.03370776e+02, -4.27447107e+01,  4.62964298e-03],\n",
       "       [ 7.11917845e+02, -4.37898544e+01,  4.62964314e-03],\n",
       "       [ 7.22655536e+02, -4.51207604e+01,  4.62964334e-03],\n",
       "       [ 7.34878890e+02, -4.66600593e+01,  4.62964358e-03],\n",
       "       [ 7.43056090e+02, -4.77042352e+01,  4.62964373e-03],\n",
       "       [ 7.51014838e+02, -4.87316120e+01,  4.62964388e-03],\n",
       "       [ 7.61109130e+02, -5.00504062e+01,  4.62964407e-03],\n",
       "       [ 7.69904224e+02, -5.12138172e+01,  4.62964424e-03],\n",
       "       [ 7.78087642e+02, -5.23083207e+01,  4.62964440e-03],\n",
       "       [ 7.88156838e+02, -5.36709198e+01,  4.62964459e-03],\n",
       "       [ 7.98384315e+02, -5.50728733e+01,  4.62964478e-03],\n",
       "       [ 8.07343654e+02, -5.63158463e+01,  4.62964495e-03],\n",
       "       [ 8.17218751e+02, -5.77019365e+01,  4.62964514e-03],\n",
       "       [ 8.28895817e+02, -5.93626990e+01,  4.62964536e-03],\n",
       "       [ 8.40950763e+02, -6.11019232e+01,  4.62964559e-03],\n",
       "       [ 8.49915342e+02, -6.24115661e+01,  4.62964576e-03],\n",
       "       [ 8.61358968e+02, -6.41035531e+01,  4.62964598e-03],\n",
       "       [ 8.69705036e+02, -6.53518238e+01,  4.62964614e-03],\n",
       "       [ 8.79769442e+02, -6.68731051e+01,  4.62964633e-03],\n",
       "       [ 8.91381102e+02, -6.86500072e+01,  4.62964655e-03],\n",
       "       [ 9.00026242e+02, -6.99880812e+01,  4.62964671e-03],\n",
       "       [ 9.07641045e+02, -7.11773798e+01,  4.62964686e-03],\n",
       "       [ 9.21156927e+02, -7.33129993e+01,  4.62964711e-03],\n",
       "       [ 9.28400657e+02, -7.44705601e+01,  4.62964725e-03],\n",
       "       [ 9.36556647e+02, -7.57847537e+01,  4.62964740e-03],\n",
       "       [ 9.47672918e+02, -7.75944541e+01,  4.62964762e-03]])"
      ]
     },
     "execution_count": 40,
     "metadata": {},
     "output_type": "execute_result"
    }
   ],
   "source": [
    "np.array([times,(pdot_f-times)*86400,frequency_series]).T\n"
   ]
  },
  {
   "cell_type": "code",
   "execution_count": null,
   "metadata": {},
   "outputs": [],
   "source": []
  }
 ],
 "metadata": {
  "kernelspec": {
   "display_name": "Python 3",
   "language": "python",
   "name": "python3"
  },
  "language_info": {
   "codemirror_mode": {
    "name": "ipython",
    "version": 3
   },
   "file_extension": ".py",
   "mimetype": "text/x-python",
   "name": "python",
   "nbconvert_exporter": "python",
   "pygments_lexer": "ipython3",
   "version": "3.7.4"
  }
 },
 "nbformat": 4,
 "nbformat_minor": 2
}
