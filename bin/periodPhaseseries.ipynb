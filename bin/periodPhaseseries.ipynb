{
 "cells": [
  {
   "cell_type": "code",
   "execution_count": 12,
   "metadata": {},
   "outputs": [],
   "source": [
    "import numpy as np\n",
    "import simulate\n",
    "import matplotlib.pyplot as plt\n",
    "import pdb\n",
    "\n",
    "# default params\n",
    "m1 = 0.5 # mass 1 (msun)\n",
    "m2 = 0.25 # mass 2 (msun)\n",
    "P0 = 0.005 # period (days)\n",
    "Pdot = 1e-11 # abs rate of change of period (days/days)\n",
    "freq_0 = 2/P0/(60*60*24) # quadrupole radiation in hertz (twice the freq of the source)\n"
   ]
  },
  {
   "cell_type": "code",
   "execution_count": 13,
   "metadata": {},
   "outputs": [],
   "source": [
    "# constants\n",
    "G = 6.67e-11 # grav constant (m^3/kg/s^2)\n",
    "msun = 1.989e30 # solar mass (kg)\n",
    "c = 299792458 # speed of light (m/s)\n",
    "\n",
    "def mchirp(m1,m2): \n",
    "    return (m1*m2)**(3/5.)/(m1+m2)**(1/5.)\n",
    "\n",
    "def time_to_coalescence(f0, m1, m2=None):\n",
    "    \"\"\"\n",
    "    INPUTS:\n",
    "            f0 = starting frequency in hertz\n",
    "            \n",
    "            m1 = mass of star 1 in kg\n",
    "            \n",
    "            m2 = mass of star 2 in kg (If None, m1 assumed to be mchirp)\n",
    "            \n",
    "    OUTPUTS:\n",
    "            freqs = frequency array in hertz (nan after coalescence)\n",
    "            \n",
    "    \"\"\"\n",
    "    if m2 is None:\n",
    "        mc = m1\n",
    "    else:\n",
    "        mc = mchirp(m1,m2)\n",
    "    return 5./256. * (np.pi*f0)**(-8/3) * (G*mc/c**3)**(-5/3)\n",
    "\n",
    "\n",
    "def freqqs(times, m1,m2, f0):\n",
    "    \"\"\"\n",
    "    INPUTS:\n",
    "            times = time array in seconds\n",
    "            \n",
    "            m1 = mass of star 1 in kg\n",
    "            \n",
    "            m2 = mass of star 2 in kg\n",
    "            \n",
    "            f0 = starting frequency in hertz\n",
    "    OUTPUTS:\n",
    "            freqs = frequency array in hertz (nan after coalescence)\n",
    "            \n",
    "    \"\"\"\n",
    "    tcoal= time_to_coalescence(f0,m1,m2)\n",
    "\n",
    "    times= tcoal-times\n",
    "    \n",
    "    freqs=1/np.pi*(5/256./times)**(3/8.)*(G*mchirp(m1,m2)/c**3)**(-5/8.)\n",
    "    \n",
    "    return freqs\n",
    "\n",
    "\n",
    "def pdot_phasefold(times, P, Pdot, t0=0):\n",
    "    \"\"\"\n",
    "    @author: kburdge\n",
    "       \n",
    "    Function which returns phases corresponding to timestamps in a lightcurve \n",
    "    given a period P, period derivative Pdot, and reference epoch t0\n",
    "    \n",
    "    If no reference epoch is supplied, reference epoch is set to earliest time in lightcurve\n",
    "    \n",
    "    INPUTS:\n",
    "            times = time array (days)\n",
    "            \n",
    "            P = starting period\n",
    "            \n",
    "            Pdot = rate of change of period in units of time/time (days/day)\n",
    "            \n",
    "            t0 = start time\n",
    "            \n",
    "    OUTPUTS:\n",
    "            phases = phases for given time array, period, and Pdot\n",
    "    \n",
    "    \"\"\"\n",
    "    \n",
    "    if t0==0:\n",
    "            times=times-np.min(times)\n",
    "    else:\n",
    "            times=times-t0\n",
    "    \n",
    "    phases=((times-1/2*Pdot/P*(times)**2))\n",
    "    \n",
    "    return phases"
   ]
  },
  {
   "cell_type": "code",
   "execution_count": 14,
   "metadata": {},
   "outputs": [
    {
     "data": {
      "text/plain": [
       "[<matplotlib.lines.Line2D at 0x7fdd3946aed0>]"
      ]
     },
     "execution_count": 14,
     "metadata": {},
     "output_type": "execute_result"
    },
    {
     "data": {
      "image/png": "[encoded data removed]",
      "text/plain": [
       "<Figure size 432x288 with 1 Axes>"
      ]
     },
     "metadata": {
      "needs_background": "light"
     },
     "output_type": "display_data"
    }
   ],
   "source": [
    "times = np.arange(30)\n",
    "#testing for ~GW170817 params\n",
    "plt.plot(times,freqqs(times, 1.36*msun, 1.17*msun,f0=40))"
   ]
  },
  {
   "cell_type": "code",
   "execution_count": 15,
   "metadata": {},
   "outputs": [],
   "source": [
    "time=simulate.time()\n",
    "pdot_f=pdot_phasefold(time, P0, Pdot)\n",
    "frequency_series=freqqs(time*60*60*24, 0.5*msun, 0.25*msun,f0=freq_0)"
   ]
  },
  {
   "cell_type": "code",
   "execution_count": 16,
   "metadata": {},
   "outputs": [
    {
     "data": {
      "text/plain": [
       "<matplotlib.legend.Legend at 0x7fdd394133d0>"
      ]
     },
     "execution_count": 16,
     "metadata": {},
     "output_type": "execute_result"
    },
    {
     "data": {
      "image/png": "[encoded data removed]",
      "text/plain": [
       "<Figure size 432x288 with 1 Axes>"
      ]
     },
     "metadata": {
      "needs_background": "light"
     },
     "output_type": "display_data"
    }
   ],
   "source": [
    "plt.plot(time,(pdot_f-time)*86400,label=\"eclipse dt (seconds)\")\n",
    "plt.plot(time,frequency_series,label=\"gw freq (hertz)\")\n",
    "plt.xlabel(\"time (days)\")\n",
    "plt.legend()\n"
   ]
  },
  {
   "cell_type": "code",
   "execution_count": 17,
   "metadata": {},
   "outputs": [],
   "source": [
    "np.savetxt(\"phase_freq.dat\",np.array([time,(pdot_f-time)*86400,frequency_series]).T, header = 'time(days) eclipse_dt(seconds) gw_freq(hertz)')"
   ]
  },
  {
   "cell_type": "code",
   "execution_count": null,
   "metadata": {},
   "outputs": [],
   "source": []
  }
 ],
 "metadata": {
  "kernelspec": {
   "display_name": "Python 3",
   "language": "python",
   "name": "python3"
  },
  "language_info": {
   "codemirror_mode": {
    "name": "ipython",
    "version": 3
   },
   "file_extension": ".py",
   "mimetype": "text/x-python",
   "name": "python",
   "nbconvert_exporter": "python",
   "pygments_lexer": "ipython3",
   "version": "3.7.4"
  }
 },
 "nbformat": 4,
 "nbformat_minor": 2
}
