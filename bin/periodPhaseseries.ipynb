{
 "cells": [
  {
   "cell_type": "code",
   "execution_count": 107,
   "metadata": {},
   "outputs": [],
   "source": [
    "import numpy as np\n",
    "import simulate\n",
    "import matplotlib.pyplot as plt\n",
    "\n",
    "\n",
    "# default params\n",
    "m1 = 0.5 # mass 1 (msun)\n",
    "m2 = 0.25 # mass 2 (msun)\n",
    "r1 = 1.5e-2 # radius 1 (rsun)\n",
    "r2 = 3e-2 # radius 2 (rsun)\n",
    "a = 10e-2 # semimajor axis (rsun)\n",
    "i = 80 # inclination (deg)\n",
    "P0 = 0.005 # period (days)\n",
    "sbratio = 0.5 # surface brightness ratio\n",
    "Pdot = -1e-11 # rate of change of period (days/days)\n",
    "freq_0 = P0/(60.*60*24)\n",
    "\n",
    "# constants\n",
    "G = 6.67*(10**-11) # grav constant (m^3/kg/s^2)\n",
    "rsun = 6.957*(10**5) # solar radius (km)\n",
    "msun = 1.989*(10**30) # solar mass (kg)\n",
    "c = 299792458 # speed of light (m/s)\n",
    "\n",
    "\n",
    "def mchirp(m1,m2):\n",
    "    return (m1*m2)**3/5./(m1+m2)**1/5.\n",
    "\n",
    "def freqs(times, Mchirp, f0=freq_0, t0=0):\n",
    "    \"\"\"\n",
    "    INPUTS:\n",
    "            times = time array\n",
    "            \n",
    "            f0 = starting frequency\n",
    "            \n",
    "            Mchirp = rate of change of frequency in kg\n",
    "            \n",
    "            t0 = start time\n",
    "    \"\"\"\n",
    "    C0 = 96/5.*np.pi**(8/3.)*(G/c**3)**5/3.\n",
    "    if t0==0:\n",
    "            times=times-np.min(times)\n",
    "    else:\n",
    "            times=times-t0\n",
    "    \n",
    "    freqs=((C0*Mchirp**(5/3.)*times)*(-3/11.)+f0**(-14/3))**-3/14\n",
    "    \n",
    "    return freqs\n",
    "    \n",
    "\n",
    "\n",
    "\n",
    "def pdot_phasefold(times, P, Pdot, t0=0):\n",
    "    \"\"\"\n",
    "    @author: kburdge\n",
    "       \n",
    "    Function which returns phases corresponding to timestamps in a lightcurve \n",
    "    given a period P, period derivative Pdot, and reference epoch t0\n",
    "    \n",
    "    If no reference epoch is supplied, reference epoch is set to earliest time in lightcurve\n",
    "    \n",
    "    INPUTS:\n",
    "            times = time array (days)\n",
    "            \n",
    "            P = starting period\n",
    "            \n",
    "            Pdot = rate of change of period in units of time/time (days/day)\n",
    "            \n",
    "            t0 = start time\n",
    "            \n",
    "    OUTPUTS:\n",
    "            phases = phases for given time array, period, and Pdot\n",
    "    \n",
    "    \"\"\"\n",
    "    \n",
    "    if t0==0:\n",
    "            times=times-np.min(times)\n",
    "    else:\n",
    "            times=times-t0\n",
    "    \n",
    "    phases=((times-1/2*Pdot/P*(times)**2) % P)/P\n",
    "    \n",
    "    return phases\n",
    "\n",
    "\n",
    "\n"
   ]
  },
  {
   "cell_type": "code",
   "execution_count": 108,
   "metadata": {},
   "outputs": [],
   "source": [
    "time=simulate.time(n=1000)\n",
    "pdot_f=pdot_phasefold(time, 0.005,1e-11, t0=0)\n",
    "freqs=freqs(time, 1*msun,freq_0, t0=0)\n"
   ]
  },
  {
   "cell_type": "code",
   "execution_count": 109,
   "metadata": {},
   "outputs": [
    {
     "data": {
      "text/plain": [
       "<matplotlib.collections.PathCollection at 0x7f413b943510>"
      ]
     },
     "execution_count": 109,
     "metadata": {},
     "output_type": "execute_result"
    },
    {
     "data": {
      "image/png": "[encoded data removed]",
      "text/plain": [
       "<Figure size 432x288 with 1 Axes>"
      ]
     },
     "metadata": {
      "needs_background": "light"
     },
     "output_type": "display_data"
    }
   ],
   "source": [
    "plt.scatter(np.range(10000000),freqs)"
   ]
  },
  {
   "cell_type": "code",
   "execution_count": null,
   "metadata": {},
   "outputs": [],
   "source": []
  }
 ],
 "metadata": {
  "kernelspec": {
   "display_name": "Python 3",
   "language": "python",
   "name": "python3"
  },
  "language_info": {
   "codemirror_mode": {
    "name": "ipython",
    "version": 3
   },
   "file_extension": ".py",
   "mimetype": "text/x-python",
   "name": "python",
   "nbconvert_exporter": "python",
   "pygments_lexer": "ipython3",
   "version": "3.7.4"
  }
 },
 "nbformat": 4,
 "nbformat_minor": 2
}
